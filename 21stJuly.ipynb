{
  "nbformat": 4,
  "nbformat_minor": 0,
  "metadata": {
    "colab": {
      "name": "21stJuly.ipynb",
      "provenance": [],
      "authorship_tag": "ABX9TyM9jbp2LIvG/1szRdty1Pnz",
      "include_colab_link": true
    },
    "kernelspec": {
      "name": "ir",
      "display_name": "R"
    },
    "language_info": {
      "name": "R"
    }
  },
  "cells": [
    {
      "cell_type": "markdown",
      "metadata": {
        "id": "view-in-github",
        "colab_type": "text"
      },
      "source": [
        "<a href=\"https://colab.research.google.com/github/Prasannas544/Business-Analytics-Content/blob/main/21stJuly.ipynb\" target=\"_parent\"><img src=\"https://colab.research.google.com/assets/colab-badge.svg\" alt=\"Open In Colab\"/></a>"
      ]
    },
    {
      "cell_type": "code",
      "execution_count": 1,
      "metadata": {
        "colab": {
          "base_uri": "https://localhost:8080/"
        },
        "id": "aOAx-XuIYB_p",
        "outputId": "e20f1a97-6043-4e19-80dd-caef18b89c68"
      },
      "outputs": [
        {
          "output_type": "stream",
          "name": "stderr",
          "text": [
            "Installing package into ‘/usr/local/lib/R/site-library’\n",
            "(as ‘lib’ is unspecified)\n",
            "\n"
          ]
        }
      ],
      "source": [
        "install.packages(\"tidyverse\")"
      ]
    },
    {
      "cell_type": "code",
      "source": [
        "install.packages(\"nycflights13\")"
      ],
      "metadata": {
        "colab": {
          "base_uri": "https://localhost:8080/"
        },
        "id": "-K-6FeN7b2nM",
        "outputId": "0071de56-2b58-4269-c726-fc7540d79c3a"
      },
      "execution_count": 2,
      "outputs": [
        {
          "output_type": "stream",
          "name": "stderr",
          "text": [
            "Installing package into ‘/usr/local/lib/R/site-library’\n",
            "(as ‘lib’ is unspecified)\n",
            "\n"
          ]
        }
      ]
    },
    {
      "cell_type": "code",
      "source": [
        "library(tidyverse)\n",
        "library(nycflights13)"
      ],
      "metadata": {
        "colab": {
          "base_uri": "https://localhost:8080/"
        },
        "id": "Hnp82kD5b9Qx",
        "outputId": "5df2ed4e-f752-4d85-baab-8c348dc8aa0e"
      },
      "execution_count": 3,
      "outputs": [
        {
          "output_type": "stream",
          "name": "stderr",
          "text": [
            "Warning message in system(\"timedatectl\", intern = TRUE):\n",
            "“running command 'timedatectl' had status 1”\n",
            "── \u001b[1mAttaching packages\u001b[22m ─────────────────────────────────────── tidyverse 1.3.2 ──\n",
            "\u001b[32m✔\u001b[39m \u001b[34mggplot2\u001b[39m 3.3.6     \u001b[32m✔\u001b[39m \u001b[34mpurrr  \u001b[39m 0.3.4\n",
            "\u001b[32m✔\u001b[39m \u001b[34mtibble \u001b[39m 3.1.7     \u001b[32m✔\u001b[39m \u001b[34mdplyr  \u001b[39m 1.0.9\n",
            "\u001b[32m✔\u001b[39m \u001b[34mtidyr  \u001b[39m 1.2.0     \u001b[32m✔\u001b[39m \u001b[34mstringr\u001b[39m 1.4.0\n",
            "\u001b[32m✔\u001b[39m \u001b[34mreadr  \u001b[39m 2.1.2     \u001b[32m✔\u001b[39m \u001b[34mforcats\u001b[39m 0.5.1\n",
            "── \u001b[1mConflicts\u001b[22m ────────────────────────────────────────── tidyverse_conflicts() ──\n",
            "\u001b[31m✖\u001b[39m \u001b[34mdplyr\u001b[39m::\u001b[32mfilter()\u001b[39m masks \u001b[34mstats\u001b[39m::filter()\n",
            "\u001b[31m✖\u001b[39m \u001b[34mdplyr\u001b[39m::\u001b[32mlag()\u001b[39m    masks \u001b[34mstats\u001b[39m::lag()\n"
          ]
        }
      ]
    },
    {
      "cell_type": "code",
      "source": [
        "head(flights)"
      ],
      "metadata": {
        "colab": {
          "base_uri": "https://localhost:8080/",
          "height": 286
        },
        "id": "kOmr-LEScHcK",
        "outputId": "9ea7f410-ab4b-41a8-99f8-5876fe3925ed"
      },
      "execution_count": 14,
      "outputs": [
        {
          "output_type": "display_data",
          "data": {
            "text/html": [
              "<table class=\"dataframe\">\n",
              "<caption>A tibble: 6 × 19</caption>\n",
              "<thead>\n",
              "\t<tr><th scope=col>year</th><th scope=col>month</th><th scope=col>day</th><th scope=col>dep_time</th><th scope=col>sched_dep_time</th><th scope=col>dep_delay</th><th scope=col>arr_time</th><th scope=col>sched_arr_time</th><th scope=col>arr_delay</th><th scope=col>carrier</th><th scope=col>flight</th><th scope=col>tailnum</th><th scope=col>origin</th><th scope=col>dest</th><th scope=col>air_time</th><th scope=col>distance</th><th scope=col>hour</th><th scope=col>minute</th><th scope=col>time_hour</th></tr>\n",
              "\t<tr><th scope=col>&lt;int&gt;</th><th scope=col>&lt;int&gt;</th><th scope=col>&lt;int&gt;</th><th scope=col>&lt;int&gt;</th><th scope=col>&lt;int&gt;</th><th scope=col>&lt;dbl&gt;</th><th scope=col>&lt;int&gt;</th><th scope=col>&lt;int&gt;</th><th scope=col>&lt;dbl&gt;</th><th scope=col>&lt;chr&gt;</th><th scope=col>&lt;int&gt;</th><th scope=col>&lt;chr&gt;</th><th scope=col>&lt;chr&gt;</th><th scope=col>&lt;chr&gt;</th><th scope=col>&lt;dbl&gt;</th><th scope=col>&lt;dbl&gt;</th><th scope=col>&lt;dbl&gt;</th><th scope=col>&lt;dbl&gt;</th><th scope=col>&lt;dttm&gt;</th></tr>\n",
              "</thead>\n",
              "<tbody>\n",
              "\t<tr><td>2013</td><td>1</td><td>1</td><td>517</td><td>515</td><td> 2</td><td> 830</td><td> 819</td><td> 11</td><td>UA</td><td>1545</td><td>N14228</td><td>EWR</td><td>IAH</td><td>227</td><td>1400</td><td>5</td><td>15</td><td>2013-01-01 05:00:00</td></tr>\n",
              "\t<tr><td>2013</td><td>1</td><td>1</td><td>533</td><td>529</td><td> 4</td><td> 850</td><td> 830</td><td> 20</td><td>UA</td><td>1714</td><td>N24211</td><td>LGA</td><td>IAH</td><td>227</td><td>1416</td><td>5</td><td>29</td><td>2013-01-01 05:00:00</td></tr>\n",
              "\t<tr><td>2013</td><td>1</td><td>1</td><td>542</td><td>540</td><td> 2</td><td> 923</td><td> 850</td><td> 33</td><td>AA</td><td>1141</td><td>N619AA</td><td>JFK</td><td>MIA</td><td>160</td><td>1089</td><td>5</td><td>40</td><td>2013-01-01 05:00:00</td></tr>\n",
              "\t<tr><td>2013</td><td>1</td><td>1</td><td>544</td><td>545</td><td>-1</td><td>1004</td><td>1022</td><td>-18</td><td>B6</td><td> 725</td><td>N804JB</td><td>JFK</td><td>BQN</td><td>183</td><td>1576</td><td>5</td><td>45</td><td>2013-01-01 05:00:00</td></tr>\n",
              "\t<tr><td>2013</td><td>1</td><td>1</td><td>554</td><td>600</td><td>-6</td><td> 812</td><td> 837</td><td>-25</td><td>DL</td><td> 461</td><td>N668DN</td><td>LGA</td><td>ATL</td><td>116</td><td> 762</td><td>6</td><td> 0</td><td>2013-01-01 06:00:00</td></tr>\n",
              "\t<tr><td>2013</td><td>1</td><td>1</td><td>554</td><td>558</td><td>-4</td><td> 740</td><td> 728</td><td> 12</td><td>UA</td><td>1696</td><td>N39463</td><td>EWR</td><td>ORD</td><td>150</td><td> 719</td><td>5</td><td>58</td><td>2013-01-01 05:00:00</td></tr>\n",
              "</tbody>\n",
              "</table>\n"
            ],
            "text/markdown": "\nA tibble: 6 × 19\n\n| year &lt;int&gt; | month &lt;int&gt; | day &lt;int&gt; | dep_time &lt;int&gt; | sched_dep_time &lt;int&gt; | dep_delay &lt;dbl&gt; | arr_time &lt;int&gt; | sched_arr_time &lt;int&gt; | arr_delay &lt;dbl&gt; | carrier &lt;chr&gt; | flight &lt;int&gt; | tailnum &lt;chr&gt; | origin &lt;chr&gt; | dest &lt;chr&gt; | air_time &lt;dbl&gt; | distance &lt;dbl&gt; | hour &lt;dbl&gt; | minute &lt;dbl&gt; | time_hour &lt;dttm&gt; |\n|---|---|---|---|---|---|---|---|---|---|---|---|---|---|---|---|---|---|---|\n| 2013 | 1 | 1 | 517 | 515 |  2 |  830 |  819 |  11 | UA | 1545 | N14228 | EWR | IAH | 227 | 1400 | 5 | 15 | 2013-01-01 05:00:00 |\n| 2013 | 1 | 1 | 533 | 529 |  4 |  850 |  830 |  20 | UA | 1714 | N24211 | LGA | IAH | 227 | 1416 | 5 | 29 | 2013-01-01 05:00:00 |\n| 2013 | 1 | 1 | 542 | 540 |  2 |  923 |  850 |  33 | AA | 1141 | N619AA | JFK | MIA | 160 | 1089 | 5 | 40 | 2013-01-01 05:00:00 |\n| 2013 | 1 | 1 | 544 | 545 | -1 | 1004 | 1022 | -18 | B6 |  725 | N804JB | JFK | BQN | 183 | 1576 | 5 | 45 | 2013-01-01 05:00:00 |\n| 2013 | 1 | 1 | 554 | 600 | -6 |  812 |  837 | -25 | DL |  461 | N668DN | LGA | ATL | 116 |  762 | 6 |  0 | 2013-01-01 06:00:00 |\n| 2013 | 1 | 1 | 554 | 558 | -4 |  740 |  728 |  12 | UA | 1696 | N39463 | EWR | ORD | 150 |  719 | 5 | 58 | 2013-01-01 05:00:00 |\n\n",
            "text/latex": "A tibble: 6 × 19\n\\begin{tabular}{lllllllllllllllllll}\n year & month & day & dep\\_time & sched\\_dep\\_time & dep\\_delay & arr\\_time & sched\\_arr\\_time & arr\\_delay & carrier & flight & tailnum & origin & dest & air\\_time & distance & hour & minute & time\\_hour\\\\\n <int> & <int> & <int> & <int> & <int> & <dbl> & <int> & <int> & <dbl> & <chr> & <int> & <chr> & <chr> & <chr> & <dbl> & <dbl> & <dbl> & <dbl> & <dttm>\\\\\n\\hline\n\t 2013 & 1 & 1 & 517 & 515 &  2 &  830 &  819 &  11 & UA & 1545 & N14228 & EWR & IAH & 227 & 1400 & 5 & 15 & 2013-01-01 05:00:00\\\\\n\t 2013 & 1 & 1 & 533 & 529 &  4 &  850 &  830 &  20 & UA & 1714 & N24211 & LGA & IAH & 227 & 1416 & 5 & 29 & 2013-01-01 05:00:00\\\\\n\t 2013 & 1 & 1 & 542 & 540 &  2 &  923 &  850 &  33 & AA & 1141 & N619AA & JFK & MIA & 160 & 1089 & 5 & 40 & 2013-01-01 05:00:00\\\\\n\t 2013 & 1 & 1 & 544 & 545 & -1 & 1004 & 1022 & -18 & B6 &  725 & N804JB & JFK & BQN & 183 & 1576 & 5 & 45 & 2013-01-01 05:00:00\\\\\n\t 2013 & 1 & 1 & 554 & 600 & -6 &  812 &  837 & -25 & DL &  461 & N668DN & LGA & ATL & 116 &  762 & 6 &  0 & 2013-01-01 06:00:00\\\\\n\t 2013 & 1 & 1 & 554 & 558 & -4 &  740 &  728 &  12 & UA & 1696 & N39463 & EWR & ORD & 150 &  719 & 5 & 58 & 2013-01-01 05:00:00\\\\\n\\end{tabular}\n",
            "text/plain": [
              "  year month day dep_time sched_dep_time dep_delay arr_time sched_arr_time\n",
              "1 2013 1     1   517      515             2         830      819          \n",
              "2 2013 1     1   533      529             4         850      830          \n",
              "3 2013 1     1   542      540             2         923      850          \n",
              "4 2013 1     1   544      545            -1        1004     1022          \n",
              "5 2013 1     1   554      600            -6         812      837          \n",
              "6 2013 1     1   554      558            -4         740      728          \n",
              "  arr_delay carrier flight tailnum origin dest air_time distance hour minute\n",
              "1  11       UA      1545   N14228  EWR    IAH  227      1400     5    15    \n",
              "2  20       UA      1714   N24211  LGA    IAH  227      1416     5    29    \n",
              "3  33       AA      1141   N619AA  JFK    MIA  160      1089     5    40    \n",
              "4 -18       B6       725   N804JB  JFK    BQN  183      1576     5    45    \n",
              "5 -25       DL       461   N668DN  LGA    ATL  116       762     6     0    \n",
              "6  12       UA      1696   N39463  EWR    ORD  150       719     5    58    \n",
              "  time_hour          \n",
              "1 2013-01-01 05:00:00\n",
              "2 2013-01-01 05:00:00\n",
              "3 2013-01-01 05:00:00\n",
              "4 2013-01-01 05:00:00\n",
              "5 2013-01-01 06:00:00\n",
              "6 2013-01-01 05:00:00"
            ]
          },
          "metadata": {}
        }
      ]
    },
    {
      "cell_type": "code",
      "source": [
        "airlines"
      ],
      "metadata": {
        "id": "V9XTTnNXca0A"
      },
      "execution_count": null,
      "outputs": []
    },
    {
      "cell_type": "code",
      "source": [
        "flights=flights\n",
        "airlines<-airlines"
      ],
      "metadata": {
        "id": "01AWDzjncywP"
      },
      "execution_count": 7,
      "outputs": []
    },
    {
      "cell_type": "code",
      "source": [
        "flights %>%\n",
        "dplyr::filter(month==1|month==2,day==1,carrier==\"B6\")    # equivalent to  ((month==1 OR month==2) AND day==1) AND carrier == \"B6\"\n"
      ],
      "metadata": {
        "id": "q-bN2DF0dnQ4"
      },
      "execution_count": null,
      "outputs": []
    },
    {
      "cell_type": "code",
      "source": [
        "flightsFiltered <- flights %>%\n",
        "dplyr::filter(month %in% c(11,12)) %>%\n",
        "dplyr::filter(dep_time>=700) %>%\n",
        "dplyr::filter(carrier!=\"UA\")\n",
        "                                                #multiple filters\n",
        "flightsFiltered"
      ],
      "metadata": {
        "id": "wYTyL1R3dsis"
      },
      "execution_count": null,
      "outputs": []
    },
    {
      "cell_type": "code",
      "source": [
        "flightsArranged <- flightsFiltered %>%\n",
        "arrange(year,month,day,desc(dep_delay))   # Arrange in order , by year, **when tied**  then by month,,then by day & then by dep_delay(in descending order)\n",
        "\n",
        "flightsArranged"
      ],
      "metadata": {
        "id": "ch0GlCYpk1hx"
      },
      "execution_count": null,
      "outputs": []
    },
    {
      "cell_type": "code",
      "source": [
        "flightsSelected <- flightsArranged %>%                            #select which columns to keep,which ones to drop \n",
        "dplyr::select(-(hour:time_hour))%>%\n",
        "dplyr::select(-(sched_dep_time),-(sched_arr_time),-(tailnum)) %>%   #Reorder columns and rename columns\n",
        "dplyr::rename(\"airtime\"=\"air_time\",\"destination\"=\"dest\") \n",
        "\n",
        "\n",
        "head(flightsSelected)\n",
        "          "
      ],
      "metadata": {
        "colab": {
          "base_uri": "https://localhost:8080/",
          "height": 286
        },
        "id": "2dYNF_18nbUp",
        "outputId": "cf2e4476-096a-4fcc-9ebc-db45dff626e0"
      },
      "execution_count": 27,
      "outputs": [
        {
          "output_type": "display_data",
          "data": {
            "text/html": [
              "<table class=\"dataframe\">\n",
              "<caption>A tibble: 6 × 13</caption>\n",
              "<thead>\n",
              "\t<tr><th scope=col>year</th><th scope=col>month</th><th scope=col>day</th><th scope=col>dep_time</th><th scope=col>dep_delay</th><th scope=col>arr_time</th><th scope=col>arr_delay</th><th scope=col>carrier</th><th scope=col>flight</th><th scope=col>origin</th><th scope=col>destination</th><th scope=col>airtime</th><th scope=col>distance</th></tr>\n",
              "\t<tr><th scope=col>&lt;int&gt;</th><th scope=col>&lt;int&gt;</th><th scope=col>&lt;int&gt;</th><th scope=col>&lt;int&gt;</th><th scope=col>&lt;dbl&gt;</th><th scope=col>&lt;int&gt;</th><th scope=col>&lt;dbl&gt;</th><th scope=col>&lt;chr&gt;</th><th scope=col>&lt;int&gt;</th><th scope=col>&lt;chr&gt;</th><th scope=col>&lt;chr&gt;</th><th scope=col>&lt;dbl&gt;</th><th scope=col>&lt;dbl&gt;</th></tr>\n",
              "</thead>\n",
              "<tbody>\n",
              "\t<tr><td>2013</td><td>11</td><td>1</td><td>1310</td><td>265</td><td>1423</td><td>233</td><td>EV</td><td>5288</td><td>LGA</td><td>BUF</td><td> 48</td><td>292</td></tr>\n",
              "\t<tr><td>2013</td><td>11</td><td>1</td><td>2249</td><td>259</td><td>  51</td><td>250</td><td>EV</td><td>5268</td><td>LGA</td><td>CLT</td><td> 89</td><td>544</td></tr>\n",
              "\t<tr><td>2013</td><td>11</td><td>1</td><td>2329</td><td>179</td><td>  34</td><td>149</td><td>WN</td><td> 382</td><td>LGA</td><td>MDW</td><td>110</td><td>725</td></tr>\n",
              "\t<tr><td>2013</td><td>11</td><td>1</td><td>2222</td><td>172</td><td>  38</td><td>159</td><td>DL</td><td>2142</td><td>EWR</td><td>ATL</td><td>115</td><td>746</td></tr>\n",
              "\t<tr><td>2013</td><td>11</td><td>1</td><td>2216</td><td>156</td><td>2355</td><td>150</td><td>MQ</td><td>3374</td><td>JFK</td><td>RDU</td><td> 81</td><td>427</td></tr>\n",
              "\t<tr><td>2013</td><td>11</td><td>1</td><td>1714</td><td>148</td><td>1943</td><td>146</td><td>EV</td><td>4140</td><td>EWR</td><td>ATL</td><td>126</td><td>746</td></tr>\n",
              "</tbody>\n",
              "</table>\n"
            ],
            "text/markdown": "\nA tibble: 6 × 13\n\n| year &lt;int&gt; | month &lt;int&gt; | day &lt;int&gt; | dep_time &lt;int&gt; | dep_delay &lt;dbl&gt; | arr_time &lt;int&gt; | arr_delay &lt;dbl&gt; | carrier &lt;chr&gt; | flight &lt;int&gt; | origin &lt;chr&gt; | destination &lt;chr&gt; | airtime &lt;dbl&gt; | distance &lt;dbl&gt; |\n|---|---|---|---|---|---|---|---|---|---|---|---|---|\n| 2013 | 11 | 1 | 1310 | 265 | 1423 | 233 | EV | 5288 | LGA | BUF |  48 | 292 |\n| 2013 | 11 | 1 | 2249 | 259 |   51 | 250 | EV | 5268 | LGA | CLT |  89 | 544 |\n| 2013 | 11 | 1 | 2329 | 179 |   34 | 149 | WN |  382 | LGA | MDW | 110 | 725 |\n| 2013 | 11 | 1 | 2222 | 172 |   38 | 159 | DL | 2142 | EWR | ATL | 115 | 746 |\n| 2013 | 11 | 1 | 2216 | 156 | 2355 | 150 | MQ | 3374 | JFK | RDU |  81 | 427 |\n| 2013 | 11 | 1 | 1714 | 148 | 1943 | 146 | EV | 4140 | EWR | ATL | 126 | 746 |\n\n",
            "text/latex": "A tibble: 6 × 13\n\\begin{tabular}{lllllllllllll}\n year & month & day & dep\\_time & dep\\_delay & arr\\_time & arr\\_delay & carrier & flight & origin & destination & airtime & distance\\\\\n <int> & <int> & <int> & <int> & <dbl> & <int> & <dbl> & <chr> & <int> & <chr> & <chr> & <dbl> & <dbl>\\\\\n\\hline\n\t 2013 & 11 & 1 & 1310 & 265 & 1423 & 233 & EV & 5288 & LGA & BUF &  48 & 292\\\\\n\t 2013 & 11 & 1 & 2249 & 259 &   51 & 250 & EV & 5268 & LGA & CLT &  89 & 544\\\\\n\t 2013 & 11 & 1 & 2329 & 179 &   34 & 149 & WN &  382 & LGA & MDW & 110 & 725\\\\\n\t 2013 & 11 & 1 & 2222 & 172 &   38 & 159 & DL & 2142 & EWR & ATL & 115 & 746\\\\\n\t 2013 & 11 & 1 & 2216 & 156 & 2355 & 150 & MQ & 3374 & JFK & RDU &  81 & 427\\\\\n\t 2013 & 11 & 1 & 1714 & 148 & 1943 & 146 & EV & 4140 & EWR & ATL & 126 & 746\\\\\n\\end{tabular}\n",
            "text/plain": [
              "  year month day dep_time dep_delay arr_time arr_delay carrier flight origin\n",
              "1 2013 11    1   1310     265       1423     233       EV      5288   LGA   \n",
              "2 2013 11    1   2249     259         51     250       EV      5268   LGA   \n",
              "3 2013 11    1   2329     179         34     149       WN       382   LGA   \n",
              "4 2013 11    1   2222     172         38     159       DL      2142   EWR   \n",
              "5 2013 11    1   2216     156       2355     150       MQ      3374   JFK   \n",
              "6 2013 11    1   1714     148       1943     146       EV      4140   EWR   \n",
              "  destination airtime distance\n",
              "1 BUF          48     292     \n",
              "2 CLT          89     544     \n",
              "3 MDW         110     725     \n",
              "4 ATL         115     746     \n",
              "5 RDU          81     427     \n",
              "6 ATL         126     746     "
            ]
          },
          "metadata": {}
        }
      ]
    },
    {
      "cell_type": "code",
      "source": [
        " flightsMutated <- flightsSelected %>%\n",
        " dplyr::mutate(gain=dep_delay-arr_delay,\n",
        "                hours = airtime/60,               #Mutate-> add new columns  OR edit alreaedt existing columns\n",
        "                gain_per_hour=gain/hours) %>%\n",
        "dplyr::select(-(gain),-(hours))\n",
        "\n",
        "head(flightsMutated)"
      ],
      "metadata": {
        "id": "DAg8lNB2ssoq"
      },
      "execution_count": null,
      "outputs": []
    },
    {
      "cell_type": "code",
      "source": [
        "meanDelays <-flightsMutated %>%\n",
        "group_by(carrier) %>%\n",
        "dplyr::summarize(mean_Delay=mean(dep_delay,na.rm=TRUE)) %>%    # calualte mean delay of each carrier\n",
        "arrange(mean_Delay)\n",
        "\n",
        "\n",
        "meanDelays"
      ],
      "metadata": {
        "id": "CYOpEC5CthL_"
      },
      "execution_count": null,
      "outputs": []
    },
    {
      "cell_type": "code",
      "source": [
        "carrierCounts <-flightsMutated %>%\n",
        "group_by(carrier) %>%\n",
        "dplyr::summarize(count=n()) %>%    # count number of rows grouped by  carrier\n",
        "arrange(desc(count))\n",
        "\n",
        "\n",
        "carrierCounts"
      ],
      "metadata": {
        "id": "OyppE7kexaqM"
      },
      "execution_count": null,
      "outputs": []
    },
    {
      "cell_type": "code",
      "source": [
        "airlines"
      ],
      "metadata": {
        "id": "IYcP3vuwzKqN"
      },
      "execution_count": null,
      "outputs": []
    },
    {
      "cell_type": "code",
      "source": [
        "airlinesName <- meanDelays %>% \n",
        "left_join(airlines,by=c(\"carrier\"=\"carrier\")) %>%   # left join the table airlines with curent table by carrier column and select few columns \n",
        "dplyr::select(name,mean_Delay) %>%\n",
        "arrange(desc(mean_Delay))\n",
        "\n",
        "airlinesName"
      ],
      "metadata": {
        "id": "IuHesbFPzQ9H"
      },
      "execution_count": null,
      "outputs": []
    }
  ]
}
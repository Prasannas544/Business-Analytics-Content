{
  "nbformat": 4,
  "nbformat_minor": 0,
  "metadata": {
    "colab": {
      "name": "6th_July.ipynb",
      "provenance": [],
      "authorship_tag": "ABX9TyMowYNftjYe+sy+b5DIHUf7",
      "include_colab_link": true
    },
    "kernelspec": {
      "name": "ir",
      "display_name": "R"
    },
    "language_info": {
      "name": "R"
    }
  },
  "cells": [
    {
      "cell_type": "markdown",
      "metadata": {
        "id": "view-in-github",
        "colab_type": "text"
      },
      "source": [
        "<a href=\"https://colab.research.google.com/github/Prasannas544/Business-Analytics-Content/blob/main/6th_July.ipynb\" target=\"_parent\"><img src=\"https://colab.research.google.com/assets/colab-badge.svg\" alt=\"Open In Colab\"/></a>"
      ]
    },
    {
      "cell_type": "code",
      "execution_count": 5,
      "metadata": {
        "colab": {
          "base_uri": "https://localhost:8080/"
        },
        "id": "f_3tbc5HJAL4",
        "outputId": "d44f1e03-4ef2-4144-8e49-6fdfc93b33bf"
      },
      "outputs": [
        {
          "name": "stdout",
          "output_type": "stream",
          "text": [
            "Enter a number7\n"
          ]
        }
      ],
      "source": [
        "# check if a number comes in table of 2 ,3, 4, 5, 6 \n",
        "num=as.integer(readline(\"Enter a number\"))\n",
        "if(num %% 2==0){\n",
        "  print(\"2\")   #printing outputs \n",
        "}\n",
        "if(num %% 3==0){\n",
        "  print(\"3\")   #printing outputs \n",
        "} \n",
        "if(num %% 4==0){\n",
        "  print(\"4\")   #printing outputs \n",
        "} \n",
        "if(num %% 5==0){\n",
        "  print(\"5\")   #printing outputs \n",
        "}\n",
        "if(num %% 6==0){\n",
        "  print(\"6\")   #printing outputs \n",
        "}\n"
      ]
    },
    {
      "cell_type": "code",
      "source": [
        "marks=as.integer(readline(\"Enter your marks\"))\n",
        "\n",
        "if(marks>=80){\n",
        "  print(\"A\")\n",
        "}\n",
        "if(marks<80 && marks>=60){\n",
        "  print(\"B\")\n",
        "}\n",
        "if(marks<60 && marks>=40){\n",
        "  print(\"C\")\n",
        "}\n",
        "if(marks<40 && marks>=0){\n",
        "  print(\"D\")\n",
        "}"
      ],
      "metadata": {
        "id": "y2cYuhnjNzRz"
      },
      "execution_count": 26,
      "outputs": []
    },
    {
      "cell_type": "markdown",
      "source": [
        "IF-Else IF"
      ],
      "metadata": {
        "id": "Ibd-VB_eQ8Pd"
      }
    },
    {
      "cell_type": "code",
      "source": [
        "marks=as.integer(readline(\"Enter your marks\"))\n",
        "\n",
        "if(marks <=40){\n",
        "  print(\"D\")\n",
        "  } else if (marks<=60){\n",
        "    print(\"C\")\n",
        "  } else if (marks<=80){\n",
        "    print(\"B\")\n",
        "  } else {\n",
        "    print(\"A\")\n",
        "  }\n",
        "#\n",
        "\n"
      ],
      "metadata": {
        "colab": {
          "base_uri": "https://localhost:8080/"
        },
        "id": "zplvMIH_Tnk-",
        "outputId": "03d0c572-edbe-4a1c-b939-081b571f9c39"
      },
      "execution_count": 33,
      "outputs": [
        {
          "output_type": "stream",
          "name": "stdout",
          "text": [
            "Enter your marks42\n",
            "[1] \"C\"\n"
          ]
        }
      ]
    },
    {
      "cell_type": "code",
      "source": [
        "for(i in 1:10){\n",
        "  print(i)\n",
        "}"
      ],
      "metadata": {
        "colab": {
          "base_uri": "https://localhost:8080/"
        },
        "id": "EM_9-fX5d3bv",
        "outputId": "3b4fd23f-07bc-4c91-ceb5-f0e65107c370"
      },
      "execution_count": 36,
      "outputs": [
        {
          "output_type": "stream",
          "name": "stdout",
          "text": [
            "[1] 1\n",
            "[1] 2\n",
            "[1] 3\n",
            "[1] 4\n",
            "[1] 5\n",
            "[1] 6\n",
            "[1] 7\n",
            "[1] 8\n",
            "[1] 9\n",
            "[1] 10\n"
          ]
        }
      ]
    },
    {
      "cell_type": "code",
      "source": [
        "dice = c(1,2,3,4,5,6)   # dice=1:6\n",
        "\n",
        "for( ele in dice){\n",
        "  ans= ele*2\n",
        "  print(ans);\n",
        "}"
      ],
      "metadata": {
        "colab": {
          "base_uri": "https://localhost:8080/"
        },
        "id": "-zBijl9BfdbQ",
        "outputId": "aa876d1b-fcf2-4d95-8a61-c1bb890b1140"
      },
      "execution_count": 38,
      "outputs": [
        {
          "output_type": "stream",
          "name": "stdout",
          "text": [
            "[1] 2\n",
            "[1] 4\n",
            "[1] 6\n",
            "[1] 8\n",
            "[1] 10\n",
            "[1] 12\n"
          ]
        }
      ]
    },
    {
      "cell_type": "code",
      "source": [
        "# Print table of a number  \n",
        "num= as.integer(readline(\"Enter an number 😎\"))"
      ],
      "metadata": {
        "colab": {
          "base_uri": "https://localhost:8080/"
        },
        "id": "wUDwmTHTgl-T",
        "outputId": "93bcb6f6-87c2-4375-e0ce-e6a9bc3e18ec"
      },
      "execution_count": 39,
      "outputs": [
        {
          "name": "stdout",
          "output_type": "stream",
          "text": [
            "Enter an number 😎17\n"
          ]
        }
      ]
    },
    {
      "cell_type": "code",
      "source": [
        "for(i in 1:10){\n",
        "  ans=num*i;\n",
        "  print(paste(num,\" X \",i,\" = \",ans))\n",
        "}"
      ],
      "metadata": {
        "colab": {
          "base_uri": "https://localhost:8080/"
        },
        "id": "ncAxR9RhjIWp",
        "outputId": "d2912422-fc35-4687-b4e1-9183560b93a7"
      },
      "execution_count": 40,
      "outputs": [
        {
          "output_type": "stream",
          "name": "stdout",
          "text": [
            "[1] \"17  X  1  =  17\"\n",
            "[1] \"17  X  2  =  34\"\n",
            "[1] \"17  X  3  =  51\"\n",
            "[1] \"17  X  4  =  68\"\n",
            "[1] \"17  X  5  =  85\"\n",
            "[1] \"17  X  6  =  102\"\n",
            "[1] \"17  X  7  =  119\"\n",
            "[1] \"17  X  8  =  136\"\n",
            "[1] \"17  X  9  =  153\"\n",
            "[1] \"17  X  10  =  170\"\n"
          ]
        }
      ]
    }
  ]
}